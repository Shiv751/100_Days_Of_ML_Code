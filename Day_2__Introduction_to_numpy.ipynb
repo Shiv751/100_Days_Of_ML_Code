{
  "nbformat": 4,
  "nbformat_minor": 0,
  "metadata": {
    "colab": {
      "name": "Day_2__Introduction_to_numpy",
      "version": "0.3.2",
      "provenance": [],
      "include_colab_link": true
    },
    "kernelspec": {
      "name": "python3",
      "display_name": "Python 3"
    }
  },
  "cells": [
    {
      "cell_type": "markdown",
      "metadata": {
        "id": "view-in-github",
        "colab_type": "text"
      },
      "source": [
        "<a href=\"https://colab.research.google.com/github/Shiv751/100_Days_Of_ML_Code/blob/master/Day_2__Introduction_to_numpy.ipynb\" target=\"_parent\"><img src=\"https://colab.research.google.com/assets/colab-badge.svg\" alt=\"Open In Colab\"/></a>"
      ]
    },
    {
      "metadata": {
        "id": "keIE9EvXErD3",
        "colab_type": "code",
        "colab": {}
      },
      "cell_type": "code",
      "source": [
        "# Day - 2 | Introduction to Numpy Library\n",
        "# @Author - Shivam Bharadwaj\n",
        "# @GitHub - https://github.com/Shiv751/\n",
        "# @linkedin - https://in.linkedin.com/in/meetshivambharadwaj\n",
        "#100DaysOfMLCode"
      ],
      "execution_count": 0,
      "outputs": []
    },
    {
      "metadata": {
        "id": "8FcwXLpyRs-A",
        "colab_type": "text"
      },
      "cell_type": "markdown",
      "source": [
        "\n",
        "\n",
        "---\n",
        "\n",
        "\n",
        "Numpy is the core library for scientific computing in Python.\n",
        "It provides a high-performance multidimensional array object, and tools for working with these arrays. \n",
        "If you are already familiar with MATLAB, you might find this tutorial useful to get started with Numpy.\n",
        "\n",
        "\n",
        "---\n",
        "\n"
      ]
    },
    {
      "metadata": {
        "id": "U-NO5nUiE4Hn",
        "colab_type": "code",
        "colab": {}
      },
      "cell_type": "code",
      "source": [
        "import numpy as np     #Import module Numpy and using it as 'np'"
      ],
      "execution_count": 0,
      "outputs": []
    },
    {
      "metadata": {
        "id": "O-pb3BOBFKSg",
        "colab_type": "code",
        "outputId": "f37d367c-522c-4ad7-90b4-da1bb92a65ba",
        "colab": {
          "base_uri": "https://localhost:8080/",
          "height": 34
        }
      },
      "cell_type": "code",
      "source": [
        "np.__version__"
      ],
      "execution_count": 3,
      "outputs": [
        {
          "output_type": "execute_result",
          "data": {
            "text/plain": [
              "'1.14.6'"
            ]
          },
          "metadata": {
            "tags": []
          },
          "execution_count": 3
        }
      ]
    },
    {
      "metadata": {
        "id": "FG6IDaYtFM6A",
        "colab_type": "code",
        "outputId": "778cb7fa-2bee-49ab-981e-f1305127692a",
        "colab": {
          "base_uri": "https://localhost:8080/",
          "height": 34
        }
      },
      "cell_type": "code",
      "source": [
        "list = [1,2,3,4,5,6]      #Create a list of integers\n",
        "list"
      ],
      "execution_count": 4,
      "outputs": [
        {
          "output_type": "execute_result",
          "data": {
            "text/plain": [
              "[1, 2, 3, 4, 5, 6]"
            ]
          },
          "metadata": {
            "tags": []
          },
          "execution_count": 4
        }
      ]
    },
    {
      "metadata": {
        "id": "KfkTIL0VIWo5",
        "colab_type": "code",
        "outputId": "27c2a972-855c-40dd-ec50-590956bab540",
        "colab": {
          "base_uri": "https://localhost:8080/",
          "height": 34
        }
      },
      "cell_type": "code",
      "source": [
        "print(type(list))   #Check its type"
      ],
      "execution_count": 5,
      "outputs": [
        {
          "output_type": "stream",
          "text": [
            "<class 'list'>\n"
          ],
          "name": "stdout"
        }
      ]
    },
    {
      "metadata": {
        "id": "qNiNxghjUSx4",
        "colab_type": "code",
        "outputId": "3ee63021-934e-455a-ffeb-b13c5b9e5e2b",
        "colab": {
          "base_uri": "https://localhost:8080/",
          "height": 34
        }
      },
      "cell_type": "code",
      "source": [
        "npArray = np.array(list)  #We can create numpy array by passing a list like -  np.array(list)\n",
        "print(npArray)                    #Here we are creating 1D array"
      ],
      "execution_count": 6,
      "outputs": [
        {
          "output_type": "stream",
          "text": [
            "[1 2 3 4 5 6]\n"
          ],
          "name": "stdout"
        }
      ]
    },
    {
      "metadata": {
        "id": "Zmk5b5Q8Uvb3",
        "colab_type": "code",
        "outputId": "2af9cfdf-8af3-4d7f-cccd-ca312fc62cd0",
        "colab": {
          "base_uri": "https://localhost:8080/",
          "height": 51
        }
      },
      "cell_type": "code",
      "source": [
        "print(type(npArray))   #Check its type\n",
        "                       #Numpy allows to create n-dimentional arrays like 2D, 3D,4D......1056D etc\n",
        "print(npArray.shape)   #Prints shape like (Rows, Columns)"
      ],
      "execution_count": 7,
      "outputs": [
        {
          "output_type": "stream",
          "text": [
            "<class 'numpy.ndarray'>\n",
            "(6,)\n"
          ],
          "name": "stdout"
        }
      ]
    },
    {
      "metadata": {
        "id": "NyoRPGwzVjha",
        "colab_type": "code",
        "outputId": "48c926ae-93b4-4802-9203-c16c1926e6ab",
        "colab": {
          "base_uri": "https://localhost:8080/",
          "height": 34
        }
      },
      "cell_type": "code",
      "source": [
        "list2 = [5,6,7,8,9]      #Create a list of integers\n",
        "list2"
      ],
      "execution_count": 8,
      "outputs": [
        {
          "output_type": "execute_result",
          "data": {
            "text/plain": [
              "[5, 6, 7, 8, 9]"
            ]
          },
          "metadata": {
            "tags": []
          },
          "execution_count": 8
        }
      ]
    },
    {
      "metadata": {
        "id": "_18pTXbuU40v",
        "colab_type": "code",
        "outputId": "94167f52-cd12-4da9-a752-3a8cac31c308",
        "colab": {
          "base_uri": "https://localhost:8080/",
          "height": 34
        }
      },
      "cell_type": "code",
      "source": [
        "two_D_Array = np.array([[list,list2]])  #We can create numpy array by passing a list like -  np.array(list)\n",
        "print(two_D_Array) "
      ],
      "execution_count": 9,
      "outputs": [
        {
          "output_type": "stream",
          "text": [
            "[[list([1, 2, 3, 4, 5, 6]) list([5, 6, 7, 8, 9])]]\n"
          ],
          "name": "stdout"
        }
      ]
    },
    {
      "metadata": {
        "id": "dYhKYv0Jeeup",
        "colab_type": "code",
        "outputId": "6610b8eb-f008-4559-aa10-83ca672296f3",
        "colab": {
          "base_uri": "https://localhost:8080/",
          "height": 34
        }
      },
      "cell_type": "code",
      "source": [
        "b = np.array([list,list2])\n",
        "print(b)"
      ],
      "execution_count": 10,
      "outputs": [
        {
          "output_type": "stream",
          "text": [
            "[list([1, 2, 3, 4, 5, 6]) list([5, 6, 7, 8, 9])]\n"
          ],
          "name": "stdout"
        }
      ]
    },
    {
      "metadata": {
        "id": "bqMkOZ9jTDkB",
        "colab_type": "code",
        "outputId": "f8e03eab-ddf6-494c-8726-df1615b83d94",
        "colab": {
          "base_uri": "https://localhost:8080/",
          "height": 51
        }
      },
      "cell_type": "code",
      "source": [
        "a = np.zeros((2,2))   # Create an array of all zeros\n",
        "print(a)              # Prints \"[[ 0.  0.]\n",
        "                      #          [ 0.  0.]]\""
      ],
      "execution_count": 11,
      "outputs": [
        {
          "output_type": "stream",
          "text": [
            "[[0. 0.]\n",
            " [0. 0.]]\n"
          ],
          "name": "stdout"
        }
      ]
    },
    {
      "metadata": {
        "id": "6gK58Mq6Zdvt",
        "colab_type": "code",
        "outputId": "2c699bb3-c0ba-4582-b0cd-fc658792f076",
        "colab": {
          "base_uri": "https://localhost:8080/",
          "height": 34
        }
      },
      "cell_type": "code",
      "source": [
        "b = np.ones((1,2))    # Create an array of all ones\n",
        "print(b)              # Prints \"[[ 1.  1.]]\"\n"
      ],
      "execution_count": 12,
      "outputs": [
        {
          "output_type": "stream",
          "text": [
            "[[1. 1.]]\n"
          ],
          "name": "stdout"
        }
      ]
    },
    {
      "metadata": {
        "id": "nFn6tlNRZkdj",
        "colab_type": "code",
        "outputId": "9fd7b0cc-441e-4f21-b4e7-febdc860d5e6",
        "colab": {
          "base_uri": "https://localhost:8080/",
          "height": 51
        }
      },
      "cell_type": "code",
      "source": [
        "c = np.full((2,2), 7)  # Create a constant array\n",
        "print(c)               # Prints \"[[ 7.  7.]\n",
        "                       #          [ 7.  7.]]\""
      ],
      "execution_count": 13,
      "outputs": [
        {
          "output_type": "stream",
          "text": [
            "[[7 7]\n",
            " [7 7]]\n"
          ],
          "name": "stdout"
        }
      ]
    },
    {
      "metadata": {
        "id": "AeDCFZ8rZnIZ",
        "colab_type": "code",
        "outputId": "89391074-8ca5-455d-edbc-1281792fbf0a",
        "colab": {
          "base_uri": "https://localhost:8080/",
          "height": 51
        }
      },
      "cell_type": "code",
      "source": [
        "d = np.eye(2)         # Create a 2x2 identity matrix\n",
        "print(d)              # Prints \"[[ 1.  0.]\n",
        "                      #          [ 0.  1.]]\""
      ],
      "execution_count": 14,
      "outputs": [
        {
          "output_type": "stream",
          "text": [
            "[[1. 0.]\n",
            " [0. 1.]]\n"
          ],
          "name": "stdout"
        }
      ]
    },
    {
      "metadata": {
        "id": "F5Zd4NpdZn6m",
        "colab_type": "code",
        "outputId": "ebf837bc-3142-4da4-f72a-0e0f5afb0c68",
        "colab": {
          "base_uri": "https://localhost:8080/",
          "height": 51
        }
      },
      "cell_type": "code",
      "source": [
        "e = np.random.random((2,2))  # Create an array filled with random values\n",
        "print(e)                     # Might print \"[[ 0.91940167  0.08143941]\n",
        "                             #               [ 0.68744134  0.87236687]]\""
      ],
      "execution_count": 15,
      "outputs": [
        {
          "output_type": "stream",
          "text": [
            "[[0.08619191 0.88303332]\n",
            " [0.25325012 0.29487982]]\n"
          ],
          "name": "stdout"
        }
      ]
    },
    {
      "metadata": {
        "id": "Wyyfoq0dZp3d",
        "colab_type": "code",
        "outputId": "2402ad35-d345-4f41-8703-92fc7df28efc",
        "colab": {
          "base_uri": "https://localhost:8080/",
          "height": 51
        }
      },
      "cell_type": "code",
      "source": [
        "f = np.random.rand(2,3)  # Create an array filled with random values\n",
        "print(f)                    \n",
        "                           "
      ],
      "execution_count": 16,
      "outputs": [
        {
          "output_type": "stream",
          "text": [
            "[[0.62474773 0.47101917 0.47982693]\n",
            " [0.91995738 0.49110827 0.71313231]]\n"
          ],
          "name": "stdout"
        }
      ]
    },
    {
      "metadata": {
        "id": "Xx_itocIZ4JH",
        "colab_type": "code",
        "outputId": "60038103-3852-4078-9122-6c0ab4060f8e",
        "colab": {
          "base_uri": "https://localhost:8080/",
          "height": 68
        }
      },
      "cell_type": "code",
      "source": [
        "# Create the following rank 2 array with shape (3, 4)\n",
        "# [[ 1  2  3  4]\n",
        "#  [ 5  6  7  8]\n",
        "#  [ 9 10 11 12]]\n",
        "\n",
        "a = np.array([[1,2,3,4], [5,6,7,8], [9,10,11,12]])\n",
        "print(a)"
      ],
      "execution_count": 17,
      "outputs": [
        {
          "output_type": "stream",
          "text": [
            "[[ 1  2  3  4]\n",
            " [ 5  6  7  8]\n",
            " [ 9 10 11 12]]\n"
          ],
          "name": "stdout"
        }
      ]
    },
    {
      "metadata": {
        "id": "oWw5eNOnahWr",
        "colab_type": "code",
        "outputId": "60427b1a-12aa-4f79-ce9b-b415c5846faa",
        "colab": {
          "base_uri": "https://localhost:8080/",
          "height": 51
        }
      },
      "cell_type": "code",
      "source": [
        "# Use slicing to pull out the subarray consisting of the first 2 rows\n",
        "# and columns 1 and 2; b is the following array of shape (2, 2):\n",
        "# [[2 3]\n",
        "#  [6 7]]\n",
        "\n",
        "b = a[:2, 1:3]\n",
        "print(b)"
      ],
      "execution_count": 18,
      "outputs": [
        {
          "output_type": "stream",
          "text": [
            "[[2 3]\n",
            " [6 7]]\n"
          ],
          "name": "stdout"
        }
      ]
    },
    {
      "metadata": {
        "id": "C2vl09FTaujK",
        "colab_type": "code",
        "outputId": "809ad2f0-f3f6-4e19-fb30-5d20adfedafd",
        "colab": {
          "base_uri": "https://localhost:8080/",
          "height": 51
        }
      },
      "cell_type": "code",
      "source": [
        "# A slice of an array is a view into the same data, so modifying it\n",
        "# will modify the original array.\n",
        "\n",
        "print(a[0, 1])   # Prints \"2\" i.e a[Row, Corresponding_Column_No]\n",
        "b[0, 0] = 77     # b[0, 0] is the same piece of data as a[0, 1]      <-- **Attention Required**\n",
        "print(a[0, 1])   # Prints \"77\""
      ],
      "execution_count": 19,
      "outputs": [
        {
          "output_type": "stream",
          "text": [
            "2\n",
            "77\n"
          ],
          "name": "stdout"
        }
      ]
    },
    {
      "metadata": {
        "id": "p7drpCrYbKbm",
        "colab_type": "code",
        "outputId": "56635909-e9dd-425b-80e8-31b30e9933c9",
        "colab": {
          "base_uri": "https://localhost:8080/",
          "height": 51
        }
      },
      "cell_type": "code",
      "source": [
        "row_r1 = a[1, :]    # Rank 1 view of the second row of a\n",
        "row_r2 = a[1:2, :]  # Rank 2 view of the second row of a\n",
        "\n",
        "print(row_r1, row_r1.shape)  # Prints \"[5 6 7 8] (4,)\"\n",
        "print(row_r2, row_r2.shape)  # Prints \"[[5 6 7 8]] (1, 4)\""
      ],
      "execution_count": 20,
      "outputs": [
        {
          "output_type": "stream",
          "text": [
            "[5 6 7 8] (4,)\n",
            "[[5 6 7 8]] (1, 4)\n"
          ],
          "name": "stdout"
        }
      ]
    },
    {
      "metadata": {
        "id": "4QtC6X6zcNP5",
        "colab_type": "code",
        "outputId": "0e5a5fe0-c265-4561-9e24-0cddfe37883c",
        "colab": {
          "base_uri": "https://localhost:8080/",
          "height": 51
        }
      },
      "cell_type": "code",
      "source": [
        "a = np.array([[1,2], [3, 4], [5, 6]])\n",
        "\n",
        "# An example of integer array indexing.\n",
        "# The returned array will have shape (3,) and\n",
        "\n",
        "print(a[[0, 1, 2], [0, 1, 0]])  # Prints \"[1 4 5]\"\n",
        "\n",
        "# The above example of integer array indexing is equivalent to this:\n",
        "\n",
        "print(np.array([a[0, 0], a[1, 1], a[2, 0]]))  # Prints \"[1 4 5]\""
      ],
      "execution_count": 21,
      "outputs": [
        {
          "output_type": "stream",
          "text": [
            "[1 4 5]\n",
            "[1 4 5]\n"
          ],
          "name": "stdout"
        }
      ]
    },
    {
      "metadata": {
        "id": "t1C69e8qc_u7",
        "colab_type": "code",
        "outputId": "e381026a-05b5-4fc4-90c4-999fb21bf40c",
        "colab": {
          "base_uri": "https://localhost:8080/",
          "height": 102
        }
      },
      "cell_type": "code",
      "source": [
        "# Create a new array from which we will select elements\n",
        "a = np.array([[1,2,3], [4,5,6], [7,8,9], [10, 11, 12]])\n",
        "\n",
        "print(a)  # prints \"array([[ 1,  2,  3],\n",
        "          #                [ 4,  5,  6],\n",
        "          #                [ 7,  8,  9],\n",
        "          #                [10, 11, 12]])\"\n",
        "\n",
        "# Create an array of indices\n",
        "b = np.array([0, 2, 0, 1])\n",
        "\n",
        "# Select one element from each row of a using the indices in b\n",
        "print(a[np.arange(4), b])  # Prints \"[ 1  6  7 11]\"\n"
      ],
      "execution_count": 22,
      "outputs": [
        {
          "output_type": "stream",
          "text": [
            "[[ 1  2  3]\n",
            " [ 4  5  6]\n",
            " [ 7  8  9]\n",
            " [10 11 12]]\n",
            "[ 1  6  7 11]\n"
          ],
          "name": "stdout"
        }
      ]
    },
    {
      "metadata": {
        "id": "DmdDb9D9dgyu",
        "colab_type": "code",
        "outputId": "549aaa08-a237-4747-e936-0e96bfafafc3",
        "colab": {
          "base_uri": "https://localhost:8080/",
          "height": 34
        }
      },
      "cell_type": "code",
      "source": [
        "x = np.array([1, 2])   # Let numpy choose the datatype\n",
        "print(x.dtype)         # Prints \"int64\""
      ],
      "execution_count": 23,
      "outputs": [
        {
          "output_type": "stream",
          "text": [
            "int64\n"
          ],
          "name": "stdout"
        }
      ]
    },
    {
      "metadata": {
        "id": "Z9rNaihxiNl4",
        "colab_type": "code",
        "outputId": "0342c5d5-67e1-4b81-90c9-e9b024665899",
        "colab": {
          "base_uri": "https://localhost:8080/",
          "height": 85
        }
      },
      "cell_type": "code",
      "source": [
        "x = np.array([[1,2],[3,4]])\n",
        "y = np.array([[5,6],[7,8]])\n",
        "\n",
        "v = np.array([9,10])\n",
        "w = np.array([11, 12])\n",
        "\n",
        "# Inner product of vectors; both produce 219\n",
        "print(v.dot(w))\n",
        "print(np.dot(v, w))\n",
        "\n",
        "# Matrix / vector product; both produce the rank 1 array [29 67]\n",
        "print(x.dot(v))\n",
        "print(np.dot(x, v))"
      ],
      "execution_count": 24,
      "outputs": [
        {
          "output_type": "stream",
          "text": [
            "219\n",
            "219\n",
            "[29 67]\n",
            "[29 67]\n"
          ],
          "name": "stdout"
        }
      ]
    },
    {
      "metadata": {
        "id": "NnpUE1LkiW4u",
        "colab_type": "code",
        "outputId": "cbf9018b-5aa7-4d98-89c8-49baedd12fd6",
        "colab": {
          "base_uri": "https://localhost:8080/",
          "height": 85
        }
      },
      "cell_type": "code",
      "source": [
        "x = np.array([[1,2], [3,4]])\n",
        "print(x)    # Prints \"[[1 2]\n",
        "            #          [3 4]]\"\n",
        "print(x.T)  # Prints \"[[1 3]\n",
        "            #          [2 4]]\""
      ],
      "execution_count": 25,
      "outputs": [
        {
          "output_type": "stream",
          "text": [
            "[[1 2]\n",
            " [3 4]]\n",
            "[[1 3]\n",
            " [2 4]]\n"
          ],
          "name": "stdout"
        }
      ]
    },
    {
      "metadata": {
        "id": "VsIdUBsGib4J",
        "colab_type": "code",
        "outputId": "4370852c-e37a-462e-9092-febcdba2ecc8",
        "colab": {
          "base_uri": "https://localhost:8080/",
          "height": 68
        }
      },
      "cell_type": "code",
      "source": [
        "# Compute outer product of vectors\n",
        "v = np.array([1,2,3])  # v has shape (3,)\n",
        "w = np.array([4,5])    # w has shape (2,)\n",
        "\n",
        "m = np.reshape(v, (3, 1)) * w    #Reshape v into 3 rows and 1 column and multipy \n",
        "                                    # result by w i.e(4,5) in each row\n",
        "print(m)"
      ],
      "execution_count": 26,
      "outputs": [
        {
          "output_type": "stream",
          "text": [
            "[[ 4  5]\n",
            " [ 8 10]\n",
            " [12 15]]\n"
          ],
          "name": "stdout"
        }
      ]
    },
    {
      "metadata": {
        "id": "DsERU3sOjGhj",
        "colab_type": "code",
        "outputId": "6c85ad76-0f6c-4c40-bd1d-48f3a8d771e4",
        "colab": {
          "base_uri": "https://localhost:8080/",
          "height": 51
        }
      },
      "cell_type": "code",
      "source": [
        "print(m.T)  #Prints transpose of matrix"
      ],
      "execution_count": 27,
      "outputs": [
        {
          "output_type": "stream",
          "text": [
            "[[ 4  8 12]\n",
            " [ 5 10 15]]\n"
          ],
          "name": "stdout"
        }
      ]
    },
    {
      "metadata": {
        "id": "p26Q9Zc4j5xw",
        "colab_type": "code",
        "colab": {}
      },
      "cell_type": "code",
      "source": [
        ""
      ],
      "execution_count": 0,
      "outputs": []
    }
  ]
}